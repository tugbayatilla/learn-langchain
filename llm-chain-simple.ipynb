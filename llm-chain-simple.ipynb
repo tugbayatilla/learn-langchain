{
 "cells": [
  {
   "cell_type": "markdown",
   "metadata": {},
   "source": [
    "# Simple LLM call with LangChain "
   ]
  },
  {
   "cell_type": "code",
   "execution_count": 1,
   "metadata": {
    "ExecuteTime": {
     "end_time": "2024-04-18T13:15:16.224415Z",
     "start_time": "2024-04-18T13:15:16.221097Z"
    }
   },
   "outputs": [],
   "source": [
    "# Prepare Question\n",
    "question = 'how can langsmith help with testing?'"
   ]
  },
  {
   "cell_type": "code",
   "execution_count": 3,
   "metadata": {
    "ExecuteTime": {
     "end_time": "2024-04-18T13:15:33.215845Z",
     "start_time": "2024-04-18T13:15:32.782149Z"
    }
   },
   "outputs": [],
   "source": [
    "# Imports\n",
    "from dotenv import load_dotenv\n",
    "import os\n",
    "from langchain_openai import ChatOpenAI"
   ]
  },
  {
   "cell_type": "code",
   "execution_count": 4,
   "metadata": {
    "ExecuteTime": {
     "end_time": "2024-04-18T13:15:33.998318Z",
     "start_time": "2024-04-18T13:15:33.991899Z"
    }
   },
   "outputs": [
    {
     "data": {
      "text/plain": [
       "True"
      ]
     },
     "execution_count": 4,
     "metadata": {},
     "output_type": "execute_result"
    }
   ],
   "source": [
    "# Load Environment variables\n",
    "load_dotenv()"
   ]
  },
  {
   "cell_type": "code",
   "execution_count": 5,
   "metadata": {
    "ExecuteTime": {
     "end_time": "2024-04-18T13:15:36.281503Z",
     "start_time": "2024-04-18T13:15:36.235999Z"
    }
   },
   "outputs": [],
   "source": [
    "# Create llm object\n",
    "llm = ChatOpenAI(api_key=os.getenv('OPENAI_API_KEY'))"
   ]
  },
  {
   "cell_type": "code",
   "execution_count": 6,
   "metadata": {
    "ExecuteTime": {
     "end_time": "2024-04-18T13:15:39.231305Z",
     "start_time": "2024-04-18T13:15:36.898921Z"
    }
   },
   "outputs": [
    {
     "data": {
      "text/plain": [
       "AIMessage(content='Langsmith can help with testing by providing automated testing solutions that can help identify bugs and errors in the software code. It can also assist in generating test cases, running test scripts, and analyzing test results to ensure the quality and reliability of the software being developed. Additionally, Langsmith can help streamline the testing process, saving time and effort for developers and testers.', response_metadata={'token_usage': {'completion_tokens': 72, 'prompt_tokens': 15, 'total_tokens': 87}, 'model_name': 'gpt-3.5-turbo', 'system_fingerprint': 'fp_c2295e73ad', 'finish_reason': 'stop', 'logprobs': None}, id='run-bde800b2-e5f8-497c-a8f7-5614396b20c7-0')"
      ]
     },
     "execution_count": 6,
     "metadata": {},
     "output_type": "execute_result"
    }
   ],
   "source": [
    "# Ask the question to LLM\n",
    "output = llm.invoke(question)\n",
    "output"
   ]
  },
  {
   "cell_type": "code",
   "execution_count": null,
   "metadata": {},
   "outputs": [],
   "source": []
  }
 ],
 "metadata": {
  "kernelspec": {
   "display_name": "Python 3 (ipykernel)",
   "language": "python",
   "name": "python3"
  },
  "language_info": {
   "codemirror_mode": {
    "name": "ipython",
    "version": 3
   },
   "file_extension": ".py",
   "mimetype": "text/x-python",
   "name": "python",
   "nbconvert_exporter": "python",
   "pygments_lexer": "ipython3",
   "version": "3.12.0"
  }
 },
 "nbformat": 4,
 "nbformat_minor": 4
}
